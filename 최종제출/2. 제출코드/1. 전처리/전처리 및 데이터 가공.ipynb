{
 "cells": [
  {
   "cell_type": "markdown",
   "id": "a323aae9",
   "metadata": {},
   "source": [
    "### 파일 읽어오기\n",
    "- txt 형태의 파일 로드하기"
   ]
  },
  {
   "cell_type": "code",
   "execution_count": 1,
   "id": "26b52b75",
   "metadata": {},
   "outputs": [],
   "source": [
    "import logging\n",
    "from logging.config import dictConfig\n",
    "\n",
    "dictConfig({\n",
    "    'version': 1,\n",
    "    'formatters': {\n",
    "        'default': {\n",
    "            'format': '[%(asctime)s] %(message)s',\n",
    "        }\n",
    "    },\n",
    "    'handlers': {\n",
    "        'file': {\n",
    "            'level': 'DEBUG',\n",
    "            'class': 'logging.FileHandler',\n",
    "            'filename': 'debug.log',\n",
    "            'formatter': 'default',\n",
    "        },\n",
    "    },\n",
    "    'root': {\n",
    "        'level': 'DEBUG',\n",
    "        'handlers': ['file']\n",
    "    }\n",
    "})\n",
    "\n",
    "\n",
    "def myfunc():\n",
    "    logging.debug(\"함수가 시작되었습니다.\")\n",
    "\n",
    "\n",
    "myfunc()"
   ]
  },
  {
   "cell_type": "code",
   "execution_count": 2,
   "id": "c804d1bb",
   "metadata": {},
   "outputs": [],
   "source": [
    "def make_logger(name=None):\n",
    "    #1 logger instance를 만든다.\n",
    "    logger = logging.getLogger(name)\n",
    "\n",
    "    #2 logger의 level을 가장 낮은 수준인 DEBUG로 설정해둔다.\n",
    "    logger.setLevel(logging.DEBUG)\n",
    "\n",
    "    #3 formatter 지정\n",
    "    formatter = logging.Formatter(\"%(asctime)s - %(name)s - %(levelname)s - %(message)s\")\n",
    "    \n",
    "    #4 handler instance 생성\n",
    "    console = logging.StreamHandler()\n",
    "    file_handler = logging.FileHandler(filename=\"test.log\")\n",
    "    \n",
    "    #5 handler 별로 다른 level 설정\n",
    "    console.setLevel(logging.INFO)\n",
    "    file_handler.setLevel(logging.DEBUG)\n",
    "\n",
    "    #6 handler 출력 format 지정\n",
    "    console.setFormatter(formatter)\n",
    "    file_handler.setFormatter(formatter)\n",
    "\n",
    "    #7 logger에 handler 추가\n",
    "    logger.addHandler(console)\n",
    "    logger.addHandler(file_handler)\n",
    "\n",
    "    return logger"
   ]
  },
  {
   "cell_type": "code",
   "execution_count": 3,
   "id": "c6de6e55",
   "metadata": {},
   "outputs": [
    {
     "data": {
      "text/plain": [
       "<RootLogger root (DEBUG)>"
      ]
     },
     "execution_count": 3,
     "metadata": {},
     "output_type": "execute_result"
    }
   ],
   "source": [
    "make_logger()"
   ]
  },
  {
   "cell_type": "code",
   "execution_count": 4,
   "id": "2f823cef",
   "metadata": {},
   "outputs": [],
   "source": [
    "import pandas as pd\n",
    "import numpy as np\n",
    "import re\n",
    "from tqdm import tqdm \n",
    "tqdm.pandas()\n",
    "import warnings\n",
    "warnings.filterwarnings(\"ignore\")"
   ]
  },
  {
   "cell_type": "code",
   "execution_count": 5,
   "id": "0250fd87",
   "metadata": {},
   "outputs": [],
   "source": [
    "# txt 파일 불러오기\n",
    "train_df = pd.read_table('1. 실습용자료.txt',sep='|',encoding=\"cp949\")\n",
    "test_df = pd.read_table('2. 모델개발용자료.txt',sep='|',encoding=\"cp949\")"
   ]
  },
  {
   "cell_type": "code",
   "execution_count": 6,
   "id": "85a507bc",
   "metadata": {},
   "outputs": [],
   "source": [
    "# csv 파일 형태로 추출\n",
    "train_df.to_csv(\"1. 실습용자료.csv\",encoding=\"utf-8-sig\",index=False)\n",
    "test_df.to_csv(\"2. 모델개발용자료.csv\",encoding=\"utf-8-sig\",index=False)"
   ]
  },
  {
   "cell_type": "code",
   "execution_count": 7,
   "id": "7702e22a",
   "metadata": {},
   "outputs": [],
   "source": [
    "# csv 파일 불러오기 / 컬럼명 조정\n",
    "train_df = pd.read_csv(\"1. 실습용자료.csv\")\n",
    "train_df.columns = [\"AI_id\",\"대분류\",\"중분류\",\"소분류\",\"text_obj\",\"text_mthd\",\"text_deal\"]\n",
    "\n",
    "test_df = pd.read_csv(\"2. 모델개발용자료.csv\")\n",
    "test_df.columns = [\"AI_id\",\"대분류\",\"중분류\",\"소분류\",\"text_obj\",\"text_mthd\",\"text_deal\"]"
   ]
  },
  {
   "cell_type": "markdown",
   "id": "1fe10811",
   "metadata": {},
   "source": [
    "### 1차 텍스트 전처리"
   ]
  },
  {
   "cell_type": "code",
   "execution_count": 8,
   "id": "de2860db",
   "metadata": {},
   "outputs": [],
   "source": [
    "# 공백으로 처리할것들\n",
    "#del_special_lst = ['５', '∼', '>', '）', 'Ⅱ', '／', '．', '\"', ']', '-', ',', '～',\n",
    "#       '＇', '㎜', '_', '６', '３', '（', '@', '}', '１', '<', '→', '₂', 'Ⅲ',\n",
    "#       '=', '，', '&', '↘', '/', '·', '＆', '#', 'ㆍ', ' ', ':', '^', '`',\n",
    "#       '%', 'º', '①',\"'\"]\n",
    "#np.save(\"del_special_lst.npy\",del_special_lst)"
   ]
  },
  {
   "cell_type": "code",
   "execution_count": 9,
   "id": "e978c2bd",
   "metadata": {},
   "outputs": [],
   "source": [
    "def new_data_cleansing_text(df,col_lst):\n",
    "    for col in col_lst:\n",
    "\n",
    "        # null값 채우기\n",
    "        df[col] = df[col].fillna(\"\")\n",
    "        \n",
    "        # 양쪽 공백 삭제\n",
    "        df[col] = df[col].apply(lambda x : x.strip())\n",
    "        \n",
    "        # 특정 특수문자 삭제\n",
    "        except_lst = [\"無\",\"地\",\"金\",\"銅\",\"茶\",\"外\",\"內\",\"\\'\",\";\",\"℃\"]\n",
    "        for ex in except_lst:\n",
    "            df[col] = df[col].apply(lambda x : re.sub(ex,'', x))\n",
    "            \n",
    "        #영어 문자 사이의 특수기호 삭제\n",
    "        df[col] = df[col].str.replace(pat=\"(?<=[a-z])[/$](?=[a-z])\",repl = \"\",regex=True)\n",
    "        \n",
    "        # 특수기호 영어 원래 영어로 변경\n",
    "        eng_lst = [\"Ｖ\",\"Ｇ\",\"Ｐ\",\"Ｌ\",\"Ｔ\"]\n",
    "        eng = [\"V\",\"G\",\"P\",\"L\",\"T\"]\n",
    "        for i in range(len(eng_lst)):\n",
    "            df[col] = df[col].apply(lambda x : re.sub(eng_lst[i],eng[i], x))\n",
    "\n",
    "        # 숫자 제거\n",
    "        df[col] = df[col].apply(lambda x : re.sub(r'[0-9]', '', x))\n",
    "    \n",
    "        # 면적 관련 기호 처리\n",
    "        replace_lst = [\"㎠\",\"㎣\",\"㎡\",\"㎥\",\"m²\",\"㎢\",\"㎟\",\"²\"]\n",
    "        for ex in replace_lst:\n",
    "            df[col] = df[col].apply(lambda x : re.sub(ex,'면적', x))\n",
    "        \n",
    "        # 공백으로 처리할것들\n",
    "        del_special_lst = ['５', '∼', '>', '）', 'Ⅱ', '／', '．', '\"', ']', '-', ',', '～',\n",
    "       '＇', '㎜', '_', '６', '３', '（', '@', '}', '１', '<', '→', '₂', 'Ⅲ',\n",
    "       '=', '，', '&', '↘', '/', '·', '＆', '#', 'ㆍ', ' ', ':', '^', '`',\n",
    "       '%', 'º', '①',\"'\"]\n",
    "        for ex in del_special_lst:\n",
    "            df[col] = df[col].apply(lambda x : re.sub(ex,' ', x))\n",
    "\n",
    "        fail = ['\\\\', '+', ')', '(', '*', '['] # 공백으로 처리할 것들2\n",
    "        \n",
    "        df[col] = df[col].apply(lambda x : re.sub(r\"[+]\",\" \",x))\n",
    "        df[col] = df[col].apply(lambda x : re.sub(r\"[*]\",\" \",x))\n",
    "        df[col] = df[col].apply(lambda x : re.sub(r\"[\\\\]\",\" \",x))\n",
    "        df[col] = df[col].apply(lambda x : re.sub(r\"[(]\",\" \",x))\n",
    "        df[col] = df[col].apply(lambda x : re.sub(r\"[)]\",\" \",x))\n",
    "        df[col] = df[col].apply(lambda x : re.sub(r\"[[]\",\" \",x))\n",
    "        df[col] = df[col].apply(lambda x : re.sub(r\"[]]\",\" \",x))\n",
    "        \n",
    "        df[col] = df[col].apply(lambda x : x.replace(\".\",\" \"))\n",
    "        \n",
    "        # 다중공백 -> 단일공백\n",
    "        df[col] = df[col].apply(lambda x : re.sub(' +', ' ', x))\n",
    "        \n",
    "        # 삭제 안하고 남겨둘 특수문자\n",
    "        no_except_lst = [\"!\",\"~\",\"？\",\"?\"] \n",
    "        df[col] = df[col].apply(lambda x : re.sub('？', '?', x))\n",
    "    \n",
    "        # 한글 자음모음 삭제\n",
    "        df[col] = df[col].apply(lambda x : re.sub('([ㄱ-ㅎㅏ-ㅣ]+)',\"\",x))\n",
    "        \n",
    "        #양쪽 공백삭제\n",
    "        df[col] = df[col].apply(lambda x : x.strip())\n",
    "        \n",
    "    return df"
   ]
  },
  {
   "cell_type": "code",
   "execution_count": 10,
   "id": "9a0666d7",
   "metadata": {},
   "outputs": [
    {
     "data": {
      "text/plain": [
       "(1100000, 7)"
      ]
     },
     "execution_count": 10,
     "metadata": {},
     "output_type": "execute_result"
    }
   ],
   "source": [
    "# train_df와 test_df 결합\n",
    "set_df = pd.concat([train_df,test_df],axis=0).reset_index(drop=True)\n",
    "set_df.shape"
   ]
  },
  {
   "cell_type": "code",
   "execution_count": 11,
   "id": "a5540a08",
   "metadata": {},
   "outputs": [
    {
     "name": "stderr",
     "output_type": "stream",
     "text": [
      "2022-04-12 11:50:04,575 - numexpr.utils - INFO - NumExpr defaulting to 8 threads.\n"
     ]
    }
   ],
   "source": [
    "# 1차 전처리\n",
    "set_df_clean = new_data_cleansing_text(set_df.copy(),[\"text_obj\",\"text_mthd\",\"text_deal\"])\n",
    "set_df_clean[\"text_sum\"] = set_df_clean[\"text_obj\"] +\" \"+ set_df_clean[\"text_mthd\"] +\" \"+ set_df_clean[\"text_deal\"]"
   ]
  },
  {
   "cell_type": "code",
   "execution_count": 12,
   "id": "632b112b",
   "metadata": {},
   "outputs": [],
   "source": [
    "# 1차 전처리한 데이터 분할\n",
    "train_set_df_clean = set_df_clean.iloc[:1000000,:].reset_index(drop=True)\n",
    "test_set_df_clean = set_df_clean.iloc[1000000:,:].reset_index(drop=True)"
   ]
  },
  {
   "cell_type": "code",
   "execution_count": 13,
   "id": "42b8f258",
   "metadata": {},
   "outputs": [],
   "source": [
    "# column 데이터 타입 변경 int -> str\n",
    "train_set_df_clean = train_set_df_clean.astype({'중분류': 'int',\n",
    "                          '소분류': 'int'})\n",
    "\n",
    "train_set_df_clean = train_set_df_clean.astype({'중분류': 'str',\n",
    "                          '소분류': 'str'})"
   ]
  },
  {
   "cell_type": "code",
   "execution_count": 14,
   "id": "1f10236e",
   "metadata": {},
   "outputs": [],
   "source": [
    "#label 결합\n",
    "train_set_df_clean[\"label\"] = ( train_set_df_clean[\"대분류\"] + train_set_df_clean[\"중분류\"]\n",
    "                               + train_set_df_clean[\"소분류\"] )\n",
    "\n",
    "\n",
    "# 결합 이후 drop\n",
    "for col in [\"대분류\",\"중분류\",\"소분류\"]:\n",
    "    train_set_df_clean.drop(col,axis=1,inplace=True)\n",
    "    test_set_df_clean.drop(col,axis=1,inplace=True)"
   ]
  },
  {
   "cell_type": "code",
   "execution_count": 15,
   "id": "949786a5",
   "metadata": {},
   "outputs": [],
   "source": [
    "# column명 변경\n",
    "train_set_df_clean.rename(columns={'text_sum':'document'},inplace=True)\n",
    "test_set_df_clean.rename(columns={'text_sum':'document'},inplace=True)"
   ]
  },
  {
   "cell_type": "code",
   "execution_count": 16,
   "id": "cf6f7a07",
   "metadata": {},
   "outputs": [],
   "source": [
    "# 1차 전처리한 데이터 저장\n",
    "train_set_df_clean.to_csv(\"train_preprocessed_ver2_no_lower.csv\",encoding=\"utf-8-sig\",index=False)\n",
    "test_set_df_clean.to_csv(\"test_preprocessed_ver2_no_lower.csv\",encoding=\"utf-8-sig\",index=False)"
   ]
  },
  {
   "cell_type": "markdown",
   "id": "8cebd1c9",
   "metadata": {},
   "source": [
    "### 2차 텍스트 전처리\n",
    "- ?가 존재하는 항목에 대한 전처리"
   ]
  },
  {
   "cell_type": "code",
   "execution_count": 17,
   "id": "b4f22c82",
   "metadata": {},
   "outputs": [],
   "source": [
    "train_ver2 = pd.read_csv(\"train_preprocessed_ver2_no_lower.csv\")\n",
    "test_ver2 = pd.read_csv(\"test_preprocessed_ver2_no_lower.csv\")"
   ]
  },
  {
   "cell_type": "code",
   "execution_count": 18,
   "id": "357b2d1b",
   "metadata": {},
   "outputs": [],
   "source": [
    "# 물음표 존재하는 항목들\n",
    "train_ver2_ques = train_ver2[train_ver2[\"document\"].str.contains(\"\\?\")]\n",
    "test_ver2_ques = test_ver2[test_ver2[\"document\"].str.contains(\"\\?\")]"
   ]
  },
  {
   "cell_type": "code",
   "execution_count": 19,
   "id": "ad956b4d",
   "metadata": {},
   "outputs": [
    {
     "name": "stdout",
     "output_type": "stream",
     "text": [
      "2416\n",
      "275\n"
     ]
    }
   ],
   "source": [
    "# 데이터 개수 확인\n",
    "print(len(train_ver2_ques))\n",
    "print(len(test_ver2_ques))"
   ]
  },
  {
   "cell_type": "code",
   "execution_count": 20,
   "id": "3b39d706",
   "metadata": {},
   "outputs": [],
   "source": [
    "# 텍스트 전처리 1차\n",
    "def ques(df,col):\n",
    "    \n",
    "    df[col] = df[col].apply(lambda x : x.strip())\n",
    "    \n",
    "    df[col] = df[col].apply(lambda x : x.replace(r\"커피?\",\"커피\"))\n",
    "    df[col] = df[col].apply(lambda x : x.replace(r\"중고?\",\"중고\"))\n",
    "    df[col] = df[col].apply(lambda x : x.replace(r\"플라스틱?\",\"플라스틱\"))\n",
    "    df[col] = df[col].apply(lambda x : x.replace(r\"케?\",\"케잌\"))\n",
    "    df[col] = df[col].apply(lambda x : x.replace(r\"?퓨터\",\"컴퓨터\"))\n",
    "    df[col] = df[col].apply(lambda x : x.replace(r\"?볶이\",\"떡볶이\"))\n",
    "    df[col] = df[col].apply(lambda x : x.replace(r\"떡?이\",\"떡볶이\"))\n",
    "    df[col] = df[col].apply(lambda x : x.replace(r\"?뢰\",\"의뢰\"))\n",
    "    df[col] = df[col].apply(lambda x : x.replace(r\"?가루\",\"밀가루\"))\n",
    "    df[col] = df[col].apply(lambda x : x.replace(r\"?단구입\",\"원단구입\"))\n",
    "    df[col] = df[col].apply(lambda x : x.replace(r\"?료기기\",\"의료기기\"))\n",
    "    df[col] = df[col].apply(lambda x : x.replace(r\"법?상담\",\"법률상담\"))\n",
    "    df[col] = df[col].apply(lambda x : x.replace(r\"접?시설\",\"접객시설\"))\n",
    "    df[col] = df[col].apply(lambda x : x.replace(r\"접객?설\",\"접객시설\"))\n",
    "    df[col] = df[col].apply(lambda x : x.replace(r\"접객시?\",\"접객시설\"))\n",
    "    df[col] = df[col].apply(lambda x : x.replace(r\"맛사지?\",\"맛사지샵\"))\n",
    "    df[col] = df[col].apply(lambda x : x.replace(r\"?톱미용\",\"손톱미용\"))\n",
    "    df[col] = df[col].apply(lambda x : x.replace(r\"마사지?\",\"마사지샵\"))\n",
    "    df[col] = df[col].apply(lambda x : x.replace(r\"마사지 ?\",\"마사지샵\"))\n",
    "    df[col] = df[col].apply(lambda x : x.replace(r\"수?교육\",\"수학교육\"))\n",
    "    df[col] = df[col].apply(lambda x : x.replace(r\"수학?육\",\"수학교육\"))\n",
    "    df[col] = df[col].apply(lambda x : x.replace(r\"수학교?\",\"수학교육\"))\n",
    "    df[col] = df[col].apply(lambda x : x.replace(r\"고?\",\"고객\"))\n",
    "    df[col] = df[col].apply(lambda x : x.replace(r\"?원\",\"학원\"))\n",
    "    df[col] = df[col].apply(lambda x : x.replace(r\"네일?\",\"네일샵\"))\n",
    "    df[col] = df[col].apply(lambda x : x.replace(r\"네일아트 ?\",\"네일아트샵\"))\n",
    "    df[col] = df[col].apply(lambda x : x.replace(r\"네일아트?\",\"네일아트샵\"))\n",
    "    df[col] = df[col].apply(lambda x : x.replace(r\"슈퍼마?\",\"슈퍼마켓\"))\n",
    "    df[col] = df[col].apply(lambda x : x.replace(r\"?매\",\"판매\"))\n",
    "    df[col] = df[col].apply(lambda x : x.replace(r\"?반인\",\"일반인\"))\n",
    "    df[col] = df[col].apply(lambda x : x.replace(r\"피부?\",\"피부샵\"))\n",
    "    df[col] = df[col].apply(lambda x : x.replace(r\"?션\",\"펜션\"))\n",
    "    df[col] = df[col].apply(lambda x : x.replace(r\"내일?\",\"네일샵\"))\n",
    "    df[col] = df[col].apply(lambda x : x.replace(r\"네일 ?\",\"네일샵\"))\n",
    "    \n",
    "    df[col] = df[col].apply(lambda x : x.replace(r\"뷰티?\",\"뷰티샵\"))\n",
    "    df[col] = df[col].apply(lambda x : x.replace(r\"위?받아\",\"위탁받아\"))\n",
    "    df[col] = df[col].apply(lambda x : x.replace(r\"선교?동\",\"선교활동\"))\n",
    "    df[col] = df[col].apply(lambda x : x.replace(r\"에?\",\"에게\"))\n",
    "    df[col] = df[col].apply(lambda x : x.replace(r\"체?단련\",\"체력단련\"))\n",
    "    df[col] = df[col].apply(lambda x : x.replace(r\"납?\",\"납품\"))\n",
    "    df[col] = df[col].apply(lambda x : x.replace(r\"수수료?고\",\"수수료 받고\"))\n",
    "    df[col] = df[col].apply(lambda x : x.replace(r\"수수료르?고\",\"수수료를 받고\"))\n",
    "    df[col] = df[col].apply(lambda x : x.replace(r\"치?판매\",\"치킨 판매\"))\n",
    "    df[col] = df[col].apply(lambda x : x.replace(r\"?프 빨래\",\"셀프 빨래\"))\n",
    "    df[col] = df[col].apply(lambda x : x.replace(r\"의뢰?아\",\"의뢰받아\"))\n",
    "    df[col] = df[col].apply(lambda x : x.replace(r\"세?소\",\"세탁소\"))\n",
    "    df[col] = df[col].apply(lambda x : x.replace(r\"선교?동\",\"선교활동\"))\n",
    "    df[col] = df[col].apply(lambda x : x.replace(r\"고객의요?\",\"고객의 요청\"))\n",
    "    df[col] = df[col].apply(lambda x : x.replace(r\"고객의 요?\",\"고객의 요청\"))\n",
    "    df[col] = df[col].apply(lambda x : x.replace(r\"차?운전자\",\"차량운전자\"))\n",
    "    df[col] = df[col].apply(lambda x : x.replace(r\"전자상거?\",\"전자상거래\"))\n",
    "    df[col] = df[col].apply(lambda x : x.replace(r\"의뢰를?아\",\"의뢰를 받아\"))\n",
    "    df[col] = df[col].apply(lambda x : x.replace(r\"예?\",\"예배\"))\n",
    "    df[col] = df[col].apply(lambda x : x.replace(r\"?추고\",\"갖추고\"))\n",
    "    df[col] = df[col].apply(lambda x : x.replace(r\"영어?육\",\"영어교육\"))\n",
    "    df[col] = df[col].apply(lambda x : x.replace(r\"영어 ?육\",\"영어교육\"))\n",
    "    \n",
    "    df[col] = df[col].apply(lambda x : x.replace(r\"?박서비스\",\"숙박서비스\"))\n",
    "    df[col] = df[col].apply(lambda x : x.replace(r\"주유시?\",\"주유시설\"))\n",
    "    df[col] = df[col].apply(lambda x : x.replace(r\"금속?\",\"금속\"))\n",
    "    df[col] = df[col].apply(lambda x : x.replace(r\"기타 ?\",\"기타\"))\n",
    "    df[col] = df[col].apply(lambda x : x.replace(r\"단독주?\",\"단독주택\"))\n",
    "    df[col] = df[col].apply(lambda x : x.replace(r\"?반고객\",\"일반고객\"))\n",
    "    df[col] = df[col].apply(lambda x : x.replace(r\"일?소비자\",\"일반소비자\"))\n",
    "    df[col] = df[col].apply(lambda x : x.replace(r\"애견미용?\",\"애견 미용샵\"))\n",
    "    df[col] = df[col].apply(lambda x : x.replace(r\"애견 미용?\",\"애견 미용샵\"))\n",
    "    df[col] = df[col].apply(lambda x : x.replace(r\"직조?\",\"직조\"))\n",
    "    df[col] = df[col].apply(lambda x : x.replace(r\"애견?\",\"애견샵\"))\n",
    "    df[col] = df[col].apply(lambda x : x.replace(r\"접?설\",\"접객시설\"))\n",
    "    df[col] = df[col].apply(lambda x : x.replace(r\"광고간?\",\"광고간행\"))\n",
    "    df[col] = df[col].apply(lambda x : x.replace(r\"식?에서\",\"식당에서\"))\n",
    "    df[col] = df[col].apply(lambda x : x.replace(r\"사무?\",\"사무실\"))\n",
    "    df[col] = df[col].apply(lambda x : x.replace(r\"중학?\",\"중학생\"))\n",
    "    df[col] = df[col].apply(lambda x : x.replace(r\"독서?\",\"독서실\"))\n",
    "    df[col] = df[col].apply(lambda x : x.replace(r\"네?샵\",\"네일샵\"))\n",
    "    df[col] = df[col].apply(lambda x : x.replace(r\"절연?\",\"절연\"))\n",
    "    df[col] = df[col].apply(lambda x : x.replace(r\"?고\",\"절연\"))\n",
    "    df[col] = df[col].apply(lambda x : x.replace(r\"?구장\",\"당구장\"))\n",
    "    df[col] = df[col].apply(lambda x : x.replace(r\"?라스틱\",\"플라스틱\"))\n",
    "    df[col] = df[col].apply(lambda x : x.replace(r\"?가게에서\",\"꽃가게에서\"))\n",
    "    df[col] = df[col].apply(lambda x : x.replace(r\"?가계에서\",\"꽃가게에서\"))\n",
    "    df[col] = df[col].apply(lambda x : x.replace(r\"가?에서\",\"가게에서\"))\n",
    "    df[col] = df[col].apply(lambda x : x.replace(r\"엔지니어링 ?\",\"엔지니어링\"))\n",
    "    df[col] = df[col].apply(lambda x : x.replace(r\"고객요?\",\"고객요구\"))\n",
    "    df[col] = df[col].apply(lambda x : x.replace(r\"고객?구\",\"고객요구\"))\n",
    "    df[col] = df[col].apply(lambda x : x.replace(r\"제조업 ?\",\"제조업\"))\n",
    "    df[col] = df[col].apply(lambda x : x.replace(r\"광고매?\",\"광고매체\"))\n",
    "    df[col] = df[col].apply(lambda x : x.replace(r\"기계?장비\",\"기계장비\"))\n",
    "    df[col] = df[col].apply(lambda x : x.replace(r\"맛사지 ?\",\"마사지샵\"))\n",
    "    df[col] = df[col].apply(lambda x : x.replace(r\"?반소비자\",\"일반소비자\"))\n",
    "    df[col] = df[col].apply(lambda x : x.replace(r\"미용?\",\"미용실\"))\n",
    "    df[col] = df[col].apply(lambda x : x.replace(r\"미?실\",\"미용실\"))\n",
    "    df[col] = df[col].apply(lambda x : x.replace(r\"연구개발업 ?\",\"연구개발업\"))\n",
    "    \n",
    "    df[col] = df[col].apply(lambda x : x.replace(r\"부동산?개소\",\"부동산중개소\"))\n",
    "    df[col] = df[col].apply(lambda x : x.replace(r\"?복이\",\"떡볶이\"))\n",
    "    df[col] = df[col].apply(lambda x : x.replace(r\"?복기\",\"떡볶이\"))\n",
    "    df[col] = df[col].apply(lambda x : x.replace(r\"?볶기\",\"떡볶이\"))\n",
    "    \n",
    "    df[col] = df[col].apply(lambda x : x.replace(r\"인력?급\",\"인력공급\"))\n",
    "    df[col] = df[col].apply(lambda x : x.replace(r\"인력공급?\",\"인력공급\"))\n",
    "    df[col] = df[col].apply(lambda x : x.replace(r\"제조업 ?\",\"제조업\"))\n",
    "    df[col] = df[col].apply(lambda x : x.replace(r\"제조?\",\"제조업\"))\n",
    "    df[col] = df[col].apply(lambda x : x.replace(r\"접객시설?\",\"접객시설을 \"))\n",
    "    df[col] = df[col].apply(lambda x : x.replace(r\"잡?시설\",\"접객시설\"))\n",
    "    df[col] = df[col].apply(lambda x : x.replace(r\"접?시설\",\"접객시설\"))\n",
    "    df[col] = df[col].apply(lambda x : x.replace(r\"접객요원?\",\"접객요원\"))\n",
    "    df[col] = df[col].apply(lambda x : x.replace(r\"적객요원?\",\"접객요원\"))\n",
    "    \n",
    "    df[col] = df[col].apply(lambda x : x.replace(r\"제조업 평?\",\"제조업 평\"))\n",
    "    df[col] = df[col].apply(lambda x : x.replace(r\"일반차?\",\"일반차량\"))\n",
    "    \n",
    "    df[col] = df[col].apply(lambda x : x.replace(r\"피부관리?\",\"피부관리샵\"))\n",
    "    df[col] = df[col].apply(lambda x : x.replace(r\"피부미용?\",\"피부미용샵\"))\n",
    "    df[col] = df[col].apply(lambda x : x.replace(r\"?생\",\"학생\"))\n",
    "    df[col] = df[col].apply(lambda x : x.replace(r\"교?\",\"교육\"))\n",
    "    df[col] = df[col].apply(lambda x : x.replace(r\"?육\",\"교육\"))\n",
    "    df[col] = df[col].apply(lambda x : x.replace(r\"초등?생\",\"초등학생\"))\n",
    "    df[col] = df[col].apply(lambda x : x.replace(r\"초등?을\",\"초등학생을\"))\n",
    "    df[col] = df[col].apply(lambda x : x.replace(r\"헤어?\",\"헤어샵\"))\n",
    "    df[col] = df[col].apply(lambda x : x.replace(r\"플라스틱 ?\",\"플라스틱\"))\n",
    "    df[col] = df[col].apply(lambda x : x.replace(r\"플라스?\",\"플라스틱\"))\n",
    "    df[col] = df[col].apply(lambda x : x.replace(r\"헤어?\",\"헤어샵\"))\n",
    "    df[col] = df[col].apply(lambda x : x.replace(r\"송풍기및배기?\",\"송풍기 및 배기장치\"))\n",
    "    \n",
    "    df[col] = df[col].apply(lambda x : x.replace(r\"계약?중개\",\"계약 및 중개\"))\n",
    "    df[col] = df[col].apply(lambda x : x.replace(r\"계약?g중개\",\"계약 및 중개\"))\n",
    "    df[col] = df[col].apply(lambda x : x.replace(r\"계약및중개\",\"계약 및 중개\"))\n",
    "\n",
    "    df[col] = df[col].apply(lambda x : x.replace(r\"인가?아\",\"인가받아\"))\n",
    "    df[col] = df[col].apply(lambda x : x.replace(r\"음?점\",\"음식점\"))\n",
    "    df[col] = df[col].apply(lambda x : x.replace(r\"?객시설\",\"접객시설\"))\n",
    "    df[col] = df[col].apply(lambda x : x.replace(r\"의?를받아\",\"의뢰를 받아\"))\n",
    "    \n",
    "    df[col] = df[col].apply(lambda x : x.replace(r\"기타 일?\",\"기타 일반\"))\n",
    "    df[col] = df[col].apply(lambda x : x.replace(r\"제조업 전?\",\"제조업 전\"))\n",
    "    \n",
    "    df[col] = df[col].apply(lambda x : x.replace(r\"접객요원및무도시설?이\",\"접객요원 및 무도시설 없이\"))\n",
    "    df[col] = df[col].apply(lambda x : x.replace(r\"접객요원무도시설없이\",\"접객요원 및 무도시설 없이\"))\n",
    "    df[col] = df[col].apply(lambda x : x.replace(r\"학?\",\"학생\"))\n",
    "    df[col] = df[col].apply(lambda x : x.replace(r\"학생들 대상으?\",\"학생들 대상으로\"))\n",
    "    df[col] = df[col].apply(lambda x : x.replace(r\"학생을대상으로\",\"학생들 대상으로\"))\n",
    "    df[col] = df[col].apply(lambda x : x.replace(r\"학생들대상으로\",\"학생들 대상으로\"))\n",
    "    df[col] = df[col].apply(lambda x : x.replace(r\"학생을데상으로\",\"학생들 대상으로\"))\n",
    "    df[col] = df[col].apply(lambda x : x.replace(r\"계약?G중개\",\"계약 중개\"))\n",
    "    \n",
    "    return df"
   ]
  },
  {
   "cell_type": "code",
   "execution_count": 21,
   "id": "0608afa9",
   "metadata": {},
   "outputs": [],
   "source": [
    "# ? 전처리 적용\n",
    "train_ver2_ques = ques(train_ver2_ques,\"document\")\n",
    "test_ver2_ques = ques(test_ver2_ques,\"document\")"
   ]
  },
  {
   "cell_type": "code",
   "execution_count": 22,
   "id": "8b9d52bf",
   "metadata": {},
   "outputs": [
    {
     "name": "stdout",
     "output_type": "stream",
     "text": [
      "758\n",
      "124\n"
     ]
    }
   ],
   "source": [
    "# 물음표 존재하는 항목들\n",
    "train_ver2_ques_left = train_ver2_ques[train_ver2_ques[\"document\"].str.contains(\"\\?\")]\n",
    "test_ver2_ques_left = test_ver2_ques[test_ver2_ques[\"document\"].str.contains(\"\\?\")]\n",
    "\n",
    "# ? 전처리 후 데이터 개수 확인\n",
    "print(len(train_ver2_ques_left))\n",
    "print(len(test_ver2_ques_left))"
   ]
  },
  {
   "cell_type": "markdown",
   "id": "37381b06",
   "metadata": {},
   "source": [
    "전처리 되지 않은 항목에 대해서는 csv 파일을 보며 직접 전처리 및 교정"
   ]
  },
  {
   "cell_type": "code",
   "execution_count": 23,
   "id": "b4e74212",
   "metadata": {},
   "outputs": [],
   "source": [
    "# ? 전처리 후 나머지 항목 직접 교정한 데이터\n",
    "train_ver2_ques_left = pd.read_csv(\"left_train.csv\")\n",
    "test_ver2_ques_left = pd.read_csv(\"left_test.csv\")"
   ]
  },
  {
   "cell_type": "code",
   "execution_count": 24,
   "id": "030134fb",
   "metadata": {},
   "outputs": [],
   "source": [
    "# ? 2차 전처리\n",
    "def ques_2nd(df,col):\n",
    "    \n",
    "    df[col] = df[col].apply(lambda x : x.strip())\n",
    "    \n",
    "    df[col] = df[col].apply(lambda x : x.replace(r\"미용원\",\"미용실\"))\n",
    "    df[col] = df[col].apply(lambda x : x.replace(r\"미장원\",\"미용실\"))\n",
    "    df[col] = df[col].apply(lambda x : x.replace(r\"이용원\",\"미용실\"))\n",
    "    \n",
    "    df[col] = df[col].apply(lambda x : x.replace(r\"마삿지\",\"마사지\"))\n",
    "    df[col] = df[col].apply(lambda x : x.replace(r\"샵\",\"숍\"))\n",
    "    df[col] = df[col].apply(lambda x : x.replace(r\"맛사지\",\"마사지\"))\n",
    "    \n",
    "    return df"
   ]
  },
  {
   "cell_type": "code",
   "execution_count": 25,
   "id": "9f42c749",
   "metadata": {},
   "outputs": [],
   "source": [
    "train_ver2_ques_left = ques_2nd(train_ver2_ques_left,\"document\")\n",
    "test_ver2_ques_left = ques_2nd(test_ver2_ques_left,\"document\")"
   ]
  },
  {
   "cell_type": "markdown",
   "id": "ceb016eb",
   "metadata": {},
   "source": [
    "### 데이터 전처리 최종결합"
   ]
  },
  {
   "cell_type": "markdown",
   "id": "cb9ade45",
   "metadata": {},
   "source": [
    "학습용"
   ]
  },
  {
   "cell_type": "code",
   "execution_count": 26,
   "id": "8607bbfb",
   "metadata": {},
   "outputs": [],
   "source": [
    "train_ver2 = pd.read_csv(\"train_preprocessed_ver2_no_lower.csv\")\n",
    "test_ver2 = pd.read_csv(\"test_preprocessed_ver2_no_lower.csv\")"
   ]
  },
  {
   "cell_type": "code",
   "execution_count": 27,
   "id": "e2f8efdd",
   "metadata": {},
   "outputs": [],
   "source": [
    "# 전처리 항목들 결합\n",
    "concat1 = pd.concat([train_ver2_ques,\n",
    "                     train_ver2_ques_left], axis=0)"
   ]
  },
  {
   "cell_type": "code",
   "execution_count": 28,
   "id": "c37a02cf",
   "metadata": {},
   "outputs": [],
   "source": [
    "concat1 = concat1.drop_duplicates([\"AI_id\"],keep=\"last\").sort_values(\"AI_id\").reset_index(drop=True)\n",
    "concat2 = pd.concat([train_ver2,\n",
    "                     concat1], axis=0)\n",
    "concat2 = concat2.drop_duplicates([\"AI_id\"],keep=\"last\").sort_values(\"AI_id\").reset_index(drop=True)"
   ]
  },
  {
   "cell_type": "code",
   "execution_count": 29,
   "id": "cfac8a98",
   "metadata": {},
   "outputs": [],
   "source": [
    "concat2.to_csv(\"train_preprocessed_ver2_no_lower_no_ques.csv\",encoding=\"utf-8-sig\",index=False)"
   ]
  },
  {
   "cell_type": "markdown",
   "id": "841c66fa",
   "metadata": {},
   "source": [
    "평가용"
   ]
  },
  {
   "cell_type": "code",
   "execution_count": 30,
   "id": "28008769",
   "metadata": {},
   "outputs": [],
   "source": [
    "concat1 = pd.concat([test_ver2_ques,\n",
    "                     test_ver2_ques_left], axis=0)"
   ]
  },
  {
   "cell_type": "code",
   "execution_count": 31,
   "id": "60fcd574",
   "metadata": {},
   "outputs": [],
   "source": [
    "concat1 = concat1.drop_duplicates([\"AI_id\"],keep=\"last\").sort_values(\"AI_id\").reset_index(drop=True)\n",
    "concat2 = pd.concat([test_ver2,\n",
    "                     concat1], axis=0)\n",
    "concat2 = concat2.drop_duplicates([\"AI_id\"],keep=\"last\").sort_values(\"AI_id\").reset_index(drop=True)"
   ]
  },
  {
   "cell_type": "code",
   "execution_count": 32,
   "id": "3f584121",
   "metadata": {},
   "outputs": [],
   "source": [
    "concat2.to_csv(\"test_preprocessed_ver2_no_lower_no_ques.csv\",encoding=\"utf-8-sig\",index=False)"
   ]
  }
 ],
 "metadata": {
  "kernelspec": {
   "display_name": "Python 3",
   "language": "python",
   "name": "python3"
  },
  "language_info": {
   "codemirror_mode": {
    "name": "ipython",
    "version": 3
   },
   "file_extension": ".py",
   "mimetype": "text/x-python",
   "name": "python",
   "nbconvert_exporter": "python",
   "pygments_lexer": "ipython3",
   "version": "3.8.8"
  }
 },
 "nbformat": 4,
 "nbformat_minor": 5
}
