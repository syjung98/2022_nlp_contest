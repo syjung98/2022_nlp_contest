{
  "nbformat": 4,
  "nbformat_minor": 0,
  "metadata": {
    "colab": {
      "name": "final_predict_kfold0.ipynb",
      "private_outputs": true,
      "provenance": [],
      "collapsed_sections": []
    },
    "kernelspec": {
      "name": "python3",
      "display_name": "Python 3"
    },
    "language_info": {
      "name": "python"
    },
    "accelerator": "GPU"
  },
  "cells": [
    {
      "cell_type": "code",
      "source": [
        "import logging\n",
        "from logging.config import dictConfig\n",
        "\n",
        "dictConfig({\n",
        "    'version': 1,\n",
        "    'formatters': {\n",
        "        'default': {\n",
        "            'format': '[%(asctime)s] %(message)s',\n",
        "        }\n",
        "    },\n",
        "    'handlers': {\n",
        "        'file': {\n",
        "            'level': 'DEBUG',\n",
        "            'class': 'logging.FileHandler',\n",
        "            'filename': 'debug.log',\n",
        "            'formatter': 'default',\n",
        "        },\n",
        "    },\n",
        "    'root': {\n",
        "        'level': 'DEBUG',\n",
        "        'handlers': ['file']\n",
        "    }\n",
        "})\n",
        "\n",
        "\n",
        "def myfunc():\n",
        "    logging.debug(\"함수가 시작되었습니다.\")\n",
        "\n",
        "\n",
        "myfunc()"
      ],
      "metadata": {
        "id": "tGG-eQ1pltEm"
      },
      "execution_count": null,
      "outputs": []
    },
    {
      "cell_type": "code",
      "source": [
        "# 구글드라이브 연동\n",
        "from google.colab import drive\n",
        "drive.mount('/content/MyDrive')"
      ],
      "metadata": {
        "id": "X09ehhqCBW6s"
      },
      "execution_count": null,
      "outputs": []
    },
    {
      "cell_type": "code",
      "execution_count": null,
      "metadata": {
        "id": "zsv7j-rr8yA1"
      },
      "outputs": [],
      "source": [
        "!pip install mxnet\n",
        "!pip install gluonnlp pandas tqdm\n",
        "!pip install sentencepiece\n",
        "!pip install transformers==3.0.2\n",
        "!pip install torch"
      ]
    },
    {
      "cell_type": "code",
      "source": [
        "#깃허브에서 KoBERT 파일 로드\n",
        "!pip install git+https://git@github.com/SKTBrain/KoBERT.git@master"
      ],
      "metadata": {
        "id": "jjNeAl-V_5C6"
      },
      "execution_count": null,
      "outputs": []
    },
    {
      "cell_type": "code",
      "source": [
        "import torch\n",
        "from torch import nn\n",
        "import torch.nn.functional as F\n",
        "import torch.optim as optim\n",
        "from torch.utils.data import Dataset, DataLoader\n",
        "import gluonnlp as nlp\n",
        "import numpy as np\n",
        "from tqdm import tqdm, tqdm_notebook\n",
        "\n",
        "from gluonnlp.data import SentencepieceTokenizer"
      ],
      "metadata": {
        "id": "IzmR6U-MBXML"
      },
      "execution_count": null,
      "outputs": []
    },
    {
      "cell_type": "code",
      "source": [
        "#kobert\n",
        "from kobert.utils import get_tokenizer\n",
        "from kobert.pytorch_kobert import get_pytorch_kobert_model\n",
        "\n",
        "#transformers\n",
        "from transformers import AdamW\n",
        "from transformers.optimization import get_cosine_schedule_with_warmup"
      ],
      "metadata": {
        "id": "aXAckokWBXIf"
      },
      "execution_count": null,
      "outputs": []
    },
    {
      "cell_type": "code",
      "source": [
        "#GPU 사용\n",
        "device = torch.device(\"cuda:0\")"
      ],
      "metadata": {
        "id": "q6kvIa24BXF2"
      },
      "execution_count": null,
      "outputs": []
    },
    {
      "cell_type": "code",
      "source": [
        "#BERT 모델, Vocabulary 불러오기\n",
        "bertmodel, vocab = get_pytorch_kobert_model()"
      ],
      "metadata": {
        "id": "H6H77sZCBXDC"
      },
      "execution_count": null,
      "outputs": []
    },
    {
      "cell_type": "code",
      "source": [
        "# 특정 파일 불러오기\n",
        "import pandas as pd\n",
        "train_preprocessed = pd.read_csv(\"/content/MyDrive/MyDrive/test/train_preprocessed_ver2_no_lower_no_ques.csv\")\n",
        "test_preprocessed = pd.read_csv(\"/content/MyDrive/MyDrive/test/test_preprocessed_ver2_no_lower_no_ques.csv\")"
      ],
      "metadata": {
        "id": "GodpcpowraMG"
      },
      "execution_count": null,
      "outputs": []
    },
    {
      "cell_type": "code",
      "source": [
        "import random\n",
        "random_seed = 0\n",
        "\n",
        "torch.manual_seed(random_seed)\n",
        "\n",
        "torch.backends.cudnn.deterministic = True\n",
        "torch.backends.cudnn.benchmark = False\n",
        "\n",
        "torch.cuda.manual_seed(random_seed)\n",
        "torch.cuda.manual_seed_all(random_seed)\n",
        "\n",
        "random.seed(random_seed)\n",
        "np.random.seed(random_seed)"
      ],
      "metadata": {
        "id": "VzOc-uZacO5y"
      },
      "execution_count": null,
      "outputs": []
    },
    {
      "cell_type": "code",
      "source": [
        "# 중복제거\n",
        "train_preprocessed[\"document\"] = train_preprocessed[\"document\"].apply(lambda x : x.strip())"
      ],
      "metadata": {
        "id": "Z76ugk5ircg3"
      },
      "execution_count": null,
      "outputs": []
    },
    {
      "cell_type": "markdown",
      "source": [
        "Over Sampling"
      ],
      "metadata": {
        "id": "JkYNeAUXrhRT"
      }
    },
    {
      "cell_type": "code",
      "source": [
        "small_label = train_preprocessed[\"label\"].value_counts()[train_preprocessed[\"label\"].value_counts() < 20].index\n",
        "mask = train_preprocessed['label'].isin(small_label)\n",
        "smalls = train_preprocessed[mask].reset_index(drop=True)\n",
        "train_preprocessed=train_preprocessed.append(smalls) # 두배\n",
        "train_preprocessed=train_preprocessed.append(smalls) # 세배\n",
        "train_preprocessed.reset_index(drop=True)"
      ],
      "metadata": {
        "id": "mKwAk1ndrhzg"
      },
      "execution_count": null,
      "outputs": []
    },
    {
      "cell_type": "code",
      "source": [
        "from sklearn.preprocessing import LabelEncoder\n",
        "le = LabelEncoder()\n",
        "le.fit(train_preprocessed[\"label\"])\n",
        "\n",
        "label = le.transform(train_preprocessed[\"label\"])\n",
        "train_preprocessed[\"encoded_label\"] = label"
      ],
      "metadata": {
        "id": "arYP8HPhrmOx"
      },
      "execution_count": null,
      "outputs": []
    },
    {
      "cell_type": "code",
      "source": [
        "# 라벨개수\n",
        "print(len(le.classes_))"
      ],
      "metadata": {
        "id": "9x1JBotzsupN"
      },
      "execution_count": null,
      "outputs": []
    },
    {
      "cell_type": "code",
      "source": [
        "# dataframe 형태의 데이터를 리스트 형태로 변경\n",
        "# bert 모델을 위한 데이터\n",
        "def transform_df_lst(df):\n",
        "    data_lst = []\n",
        "    for q, label in zip(df['document'], df['encoded_label'])  :\n",
        "        data = []\n",
        "        data.append(q)\n",
        "        data.append(str(label))\n",
        "\n",
        "        data_lst.append(data)\n",
        "    return data_lst"
      ],
      "metadata": {
        "id": "28S8t9wKrnqH"
      },
      "execution_count": null,
      "outputs": []
    },
    {
      "cell_type": "code",
      "source": [
        "import sklearn\n",
        "train_preprocessed=sklearn.utils.shuffle(train_preprocessed)"
      ],
      "metadata": {
        "id": "rGxtxnljSQa2"
      },
      "execution_count": null,
      "outputs": []
    },
    {
      "cell_type": "code",
      "source": [
        "train_preprocessed.head()"
      ],
      "metadata": {
        "id": "YAQixZrxSV4Z"
      },
      "execution_count": null,
      "outputs": []
    },
    {
      "cell_type": "code",
      "source": [
        "# fold 개수\n",
        "fold_num = 5\n",
        "\n",
        "# Cross validation, StratifiedKfold\n",
        "from sklearn.model_selection import train_test_split, KFold, cross_val_score\n",
        "from sklearn.model_selection import StratifiedKFold\n",
        "skf = StratifiedKFold(n_splits=fold_num, shuffle=True, random_state=0)\n",
        "folds=[]\n",
        "\n",
        "# Unusual sentences must be included in the training data\n",
        "# Seperate train set and validation set in each folds\n",
        "for dataset_train, dataset_test in skf.split(train_preprocessed, train_preprocessed['encoded_label']):\n",
        "  folds.append((dataset_train, dataset_test))"
      ],
      "metadata": {
        "id": "T9Y49NRNrpqK"
      },
      "execution_count": null,
      "outputs": []
    },
    {
      "cell_type": "code",
      "source": [
        "for i in range(len(folds)):\n",
        "  globals()['dataset_train_{}'.format(i)]= transform_df_lst(train_preprocessed.iloc[folds[i][0]])\n",
        "  globals()['dataset_test_{}'.format(i)] = transform_df_lst(train_preprocessed.iloc[folds[i][1]])\n",
        "  \n",
        "dataset_list = [[dataset_train_0, dataset_test_0],[dataset_train_1, dataset_test_1],[dataset_train_2, dataset_test_2],\n",
        "                [dataset_train_3, dataset_test_3],[dataset_train_4, dataset_test_4]]"
      ],
      "metadata": {
        "id": "ffuNgJD_rqoH"
      },
      "execution_count": null,
      "outputs": []
    },
    {
      "cell_type": "markdown",
      "source": [
        "KoBERT의 입력데이터로 만들기"
      ],
      "metadata": {
        "id": "4-XtVhDxRkea"
      }
    },
    {
      "cell_type": "code",
      "source": [
        "class BERTDataset(Dataset):\n",
        "    def __init__(self, dataset, sent_idx, label_idx, bert_tokenizer, max_len,\n",
        "                 pad, pair):\n",
        "        transform = nlp.data.BERTSentenceTransform(\n",
        "            bert_tokenizer, max_seq_length=max_len, pad=pad, pair=pair)\n",
        "\n",
        "        self.sentences = [transform([i[sent_idx]]) for i in dataset]\n",
        "        self.labels = [np.int32(i[label_idx]) for i in dataset]\n",
        "\n",
        "    def __getitem__(self, i):\n",
        "        return (self.sentences[i] + (self.labels[i], ))\n",
        "\n",
        "    def __len__(self):\n",
        "        return (len(self.labels))"
      ],
      "metadata": {
        "id": "oWet9w6DFPz8"
      },
      "execution_count": null,
      "outputs": []
    },
    {
      "cell_type": "code",
      "source": [
        "# 파라미터 셋팅\n",
        "max_len = 64\n",
        "batch_size = 64\n",
        "warmup_ratio = 0.1\n",
        "num_epochs = 7\n",
        "max_grad_norm = 1\n",
        "log_interval = 200\n",
        "learning_rate =  5e-5"
      ],
      "metadata": {
        "id": "9jnIj3N0FQo4"
      },
      "execution_count": null,
      "outputs": []
    },
    {
      "cell_type": "markdown",
      "source": [
        "torch 형식의 데이터로 만들기"
      ],
      "metadata": {
        "id": "I3CzWxK4SkLW"
      }
    },
    {
      "cell_type": "code",
      "source": [
        "#fold 별 학습데이터 리스트\n",
        "fold_train_dataloader = []\n",
        "\n",
        "#fold 별 검증데이터 리스트\n",
        "fold_test_dataloader = []"
      ],
      "metadata": {
        "id": "Sb_UdOegeeR0"
      },
      "execution_count": null,
      "outputs": []
    },
    {
      "cell_type": "code",
      "source": [
        "#토큰화\n",
        "tokenizer = get_tokenizer()\n",
        "tok = nlp.data.BERTSPTokenizer(tokenizer, vocab, lower=False)\n",
        "\n",
        "\n",
        "for i in tqdm(range(5)):\n",
        "   globals()['data_train_{}'.format(i)] = BERTDataset(globals()['dataset_train_{}'.format(i)], 0, 1, tok, max_len, True, False)\n",
        "   globals()['data_test_{}'.format(i)] = BERTDataset(globals()['dataset_test_{}'.format(i)], 0, 1, tok, max_len, True, False)\n",
        "\n",
        "#torch 형식의 데이터로 만들기\n",
        "for i in tqdm(range(5)):\n",
        "    globals()['train_dataloader_{}'.format(i)] = torch.utils.data.DataLoader(globals()['data_train_{}'.format(i)], batch_size=batch_size, num_workers=5)\n",
        "    globals()['test_dataloader_{}'.format(i)] = torch.utils.data.DataLoader(globals()['data_test_{}'.format(i)], batch_size=batch_size, num_workers=5)\n",
        "\n",
        "    fold_train_dataloader.append(globals()['data_train_{}'.format(i)])\n",
        "    fold_test_dataloader.append(globals()['data_test_{}'.format(i)])"
      ],
      "metadata": {
        "id": "L7tngDGDrDUY"
      },
      "execution_count": null,
      "outputs": []
    },
    {
      "cell_type": "markdown",
      "source": [
        "학습 및 검증 데이터 가져오기\n",
        "- 선용 train_dataloader_0,train_dataloader_1번\n",
        "- 유빈 train_dataloader_2,train_dataloader_3번\n",
        "- 호재 train_dataloader_4번"
      ],
      "metadata": {
        "id": "LlaZAyHRps3y"
      }
    },
    {
      "cell_type": "markdown",
      "source": [
        "KoBERT 학습모델 만들기\n",
        "- 클래스 수 조정하기"
      ],
      "metadata": {
        "id": "rDU95MaaSsTW"
      }
    },
    {
      "cell_type": "code",
      "source": [
        "class BERTClassifier(nn.Module):\n",
        "    def __init__(self,\n",
        "                 bert,\n",
        "                 hidden_size = 768,\n",
        "                 num_classes = 225 ,   ##클래스 수 조정##\n",
        "                 dr_rate=None,\n",
        "                 params=None):\n",
        "        super(BERTClassifier, self).__init__()\n",
        "        self.bert = bert\n",
        "        self.dr_rate = dr_rate\n",
        "                 \n",
        "        self.classifier = nn.Linear(hidden_size , num_classes)\n",
        "        if dr_rate:\n",
        "            self.dropout = nn.Dropout(p=dr_rate)\n",
        "    \n",
        "    def gen_attention_mask(self, token_ids, valid_length):\n",
        "        attention_mask = torch.zeros_like(token_ids)\n",
        "        for i, v in enumerate(valid_length):\n",
        "            attention_mask[i][:v] = 1\n",
        "        return attention_mask.float()\n",
        "\n",
        "    def forward(self, token_ids, valid_length, segment_ids):\n",
        "        attention_mask = self.gen_attention_mask(token_ids, valid_length)\n",
        "        \n",
        "        _, pooler = self.bert(input_ids = token_ids, token_type_ids = segment_ids.long(), attention_mask = attention_mask.float().to(token_ids.device))\n",
        "        if self.dr_rate:\n",
        "            out = self.dropout(pooler)\n",
        "        return self.classifier(out)\n",
        "\n",
        "#정확도 측정을 위한 함수 정의\n",
        "def calc_accuracy(X,Y):\n",
        "    max_vals, max_indices = torch.max(X, 1)\n",
        "    train_acc = (max_indices == Y).sum().data.cpu().numpy()/max_indices.size()[0]\n",
        "    return train_acc"
      ],
      "metadata": {
        "id": "MFT3Hc_0SmHD"
      },
      "execution_count": null,
      "outputs": []
    },
    {
      "cell_type": "markdown",
      "source": [
        "### KFold 때 마다 다르게 모델 선언"
      ],
      "metadata": {
        "id": "hW6QXDSCc5d8"
      }
    },
    {
      "cell_type": "code",
      "source": [
        "import warnings\n",
        "warnings.filterwarnings('ignore')"
      ],
      "metadata": {
        "id": "w3S6bGC5eAhP"
      },
      "execution_count": null,
      "outputs": []
    },
    {
      "cell_type": "markdown",
      "source": [
        ""
      ],
      "metadata": {
        "id": "kpEUgqs4tcVn"
      }
    },
    {
      "cell_type": "code",
      "source": [
        "#BERT 모델 불러오기\n",
        "model = BERTClassifier(bertmodel,  dr_rate=0.2).to(device)\n",
        "\n",
        "#optimizer와 schedule 설정\n",
        "no_decay = ['bias', 'LayerNorm.weight']\n",
        "optimizer_grouped_parameters = [\n",
        "    {'params': [p for n, p in model.named_parameters() if not any(nd in n for nd in no_decay)], 'weight_decay': 0.01},\n",
        "    {'params': [p for n, p in model.named_parameters() if any(nd in n for nd in no_decay)], 'weight_decay': 0.0}\n",
        "]\n",
        "\n",
        "optimizer = AdamW(optimizer_grouped_parameters, lr=learning_rate)\n",
        "#loss_fn = FocalLoss() # focal loss ->\n",
        "loss_fn = nn.CrossEntropyLoss()\n",
        "\n",
        "t_total = len(train_dataloader_1) * num_epochs\n",
        "warmup_step = int(t_total * warmup_ratio)\n",
        "\n",
        "scheduler = get_cosine_schedule_with_warmup(optimizer, num_warmup_steps=warmup_step, num_training_steps=t_total)\n",
        "\n",
        "#정확도 측정을 위한 함수 정의\n",
        "def calc_accuracy(X,Y):\n",
        "    max_vals, max_indices = torch.max(X, 1)\n",
        "    train_acc = (max_indices == Y).sum().data.cpu().numpy()/max_indices.size()[0]\n",
        "    return train_acc\n",
        "    \n",
        "#train_dataloader"
      ],
      "metadata": {
        "id": "tLKWqFAstY48"
      },
      "execution_count": null,
      "outputs": []
    },
    {
      "cell_type": "markdown",
      "source": [
        "데이터 학습하기"
      ],
      "metadata": {
        "id": "RzUzS2rfTK_q"
      }
    },
    {
      "cell_type": "code",
      "source": [
        "for e in range(num_epochs):\n",
        "    train_acc = 0.0\n",
        "    test_acc = 0.0\n",
        "    model.train()\n",
        "    for batch_id, (token_ids, valid_length, segment_ids, label) in enumerate(tqdm_notebook(train_dataloader_0)): # 여기 꼭 수정!!!\n",
        "        # 돌릴 데이터가 fold 0 이면 train_dataloader_0 로 입력하기\n",
        "\n",
        "        optimizer.zero_grad()\n",
        "        token_ids = token_ids.long().to(device)\n",
        "        segment_ids = segment_ids.long().to(device)\n",
        "        valid_length= valid_length\n",
        "        label = label.long().to(device)\n",
        "        out = model(token_ids, valid_length, segment_ids)\n",
        "        loss = loss_fn(out, label)\n",
        "        loss.backward()\n",
        "        torch.nn.utils.clip_grad_norm_(model.parameters(), max_grad_norm)\n",
        "        optimizer.step()\n",
        "        scheduler.step()  # Update learning rate schedule\n",
        "        train_acc += calc_accuracy(out, label)\n",
        "        if batch_id % log_interval == 0:\n",
        "            print(\"epoch {} batch id {} loss {} train acc {}\".format(e+1, batch_id+1, loss.data.cpu().numpy(), train_acc / (batch_id+1)))\n",
        "    print(\"epoch {} train acc {}\".format(e+1, train_acc / (batch_id+1)))\n",
        "\n",
        "\n",
        "    model.eval()\n",
        "    for batch_id, (token_ids, valid_length, segment_ids, label) in enumerate(tqdm_notebook(test_dataloader_0)): # 여기 꼭 수정!!!\n",
        "        # 돌릴 데이터가 fold 0 이면 test_dataloader_0 로 입력하기\n",
        "\n",
        "        token_ids = token_ids.long().to(device)\n",
        "        segment_ids = segment_ids.long().to(device)\n",
        "        valid_length= valid_length\n",
        "        label = label.long().to(device)\n",
        "        out = model(token_ids, valid_length, segment_ids)\n",
        "        test_acc += calc_accuracy(out, label)\n",
        "\n",
        "    print(\"epoch {} test acc {}\".format(e+1, test_acc / (batch_id+1)))\n",
        "\n",
        "    model_save_name = F'final_fold0_100_predict_epoch{e+1}.bert' # final_nodup_fold0_epoch 로 입력하기\n",
        "    path = F\"/content/MyDrive/MyDrive/test/{model_save_name}\" # epoch 마다 저장\n",
        "    torch.save(model.state_dict(), path)"
      ],
      "metadata": {
        "id": "lJm2R2WES3eY"
      },
      "execution_count": null,
      "outputs": []
    },
    {
      "cell_type": "markdown",
      "source": [
        "## 동일 데이터에 대해서 5개 모델로 다르게 예측"
      ],
      "metadata": {
        "id": "-2rGMaK-hEsQ"
      }
    },
    {
      "cell_type": "markdown",
      "source": [
        "테스트 데이터 읽어오기"
      ],
      "metadata": {
        "id": "KHfK6yAEgfH9"
      }
    },
    {
      "cell_type": "code",
      "source": [
        "max_len = 64\n",
        "#토큰화\n",
        "tokenizer = get_tokenizer()\n",
        "tok = nlp.data.BERTSPTokenizer(tokenizer, vocab, lower=False)\n",
        "\n",
        "new_test = nlp.data.TSVDataset('/content/MyDrive/MyDrive/test/test_preprocessed_ver2_no_lower_no_ques.tsv', field_indices=[4,5], num_discard_samples=1)\n",
        "\n",
        "test_set = BERTDataset(new_test , 0, 1, tok, max_len, True, False)\n",
        "test_input = torch.utils.data.DataLoader(test_set, batch_size=1, num_workers=4)"
      ],
      "metadata": {
        "id": "QQC8s-tzgbfQ"
      },
      "execution_count": null,
      "outputs": []
    },
    {
      "cell_type": "code",
      "source": [
        "predict_val = []\n",
        "predict_num_lst = []\n",
        "\n",
        "for batch_id, (token_ids, valid_length, segment_ids, label) in enumerate(tqdm_notebook(test_input)): \n",
        "  token_ids = token_ids.long().to(device) \n",
        "  segment_ids = segment_ids.long().to(device) \n",
        "  valid_length= valid_length \n",
        "  out = model(token_ids, valid_length, segment_ids)\n",
        "  prediction = out.cpu().detach().numpy().argmax()\n",
        "  predict_val.append(prediction)\n",
        "  predict_num_lst.append(out.cpu().detach().numpy())\n",
        "  if batch_id % 5000 == 0:\n",
        "     print(str(batch_id) + \"번째 문장의 분류 예측값은\" + str(prediction) + \"입니다.\")"
      ],
      "metadata": {
        "id": "nb8RsF0tgjsS"
      },
      "execution_count": null,
      "outputs": []
    },
    {
      "cell_type": "markdown",
      "source": [
        "예측값 디코딩"
      ],
      "metadata": {
        "id": "BzY-zk7tgnUC"
      }
    },
    {
      "cell_type": "code",
      "source": [
        "predict_df = test_preprocessed.copy()\n",
        "predict_df[\"label\"] = le.inverse_transform(predict_val)\n",
        "predict_df.head()"
      ],
      "metadata": {
        "id": "-ksiY6A8gml5"
      },
      "execution_count": null,
      "outputs": []
    },
    {
      "cell_type": "markdown",
      "source": [
        "저장형식 맞추기"
      ],
      "metadata": {
        "id": "OrsimAxlg1OF"
      }
    },
    {
      "cell_type": "code",
      "source": [
        "test_id = []\n",
        "for i in range(1,100001):\n",
        "    num = str(i).zfill(6)\n",
        "    test_id.append(\"id_\" + num)"
      ],
      "metadata": {
        "id": "H5gYuRdYg1-2"
      },
      "execution_count": null,
      "outputs": []
    },
    {
      "cell_type": "code",
      "source": [
        "# label 분할\n",
        "#predict_df[\"AI_id\"] = test_id\n",
        "predict_df[\"digit_1\"] = predict_df[\"label\"].apply(lambda x : x[0])\n",
        "predict_df[\"digit_2\"] = predict_df[\"label\"].apply(lambda x : x[1:3] if len(x) == 6 else x[1]) # 4글자, 6글자인 경우 다르게 출력\n",
        "predict_df[\"digit_3\"] = predict_df[\"label\"].apply(lambda x : x[3:] if len(x) == 6 else x[-2:]) # 4글자, 6글자인 경우 다르게 출력"
      ],
      "metadata": {
        "id": "eDKaVGbag3X7"
      },
      "execution_count": null,
      "outputs": []
    },
    {
      "cell_type": "code",
      "source": [
        "predict_df = predict_df[[\"AI_id\",\"digit_1\",\"digit_2\",\"digit_3\"]]\n",
        "predict_df.head()"
      ],
      "metadata": {
        "id": "UW7jNRoGg4XE"
      },
      "execution_count": null,
      "outputs": []
    },
    {
      "cell_type": "markdown",
      "source": [
        "결과 저장하기"
      ],
      "metadata": {
        "id": "VUyF4XnpxaOg"
      }
    },
    {
      "cell_type": "code",
      "source": [
        "np.save(\"/content/MyDrive/MyDrive/test/final_fold0_100_predict_epoch7.npy\",predict_num_lst)"
      ],
      "metadata": {
        "id": "JERuUb-SuZlb"
      },
      "execution_count": null,
      "outputs": []
    }
  ]
}