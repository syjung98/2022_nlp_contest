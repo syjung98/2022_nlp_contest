{
  "nbformat": 4,
  "nbformat_minor": 0,
  "metadata": {
    "colab": {
      "name": "final_predict.ipynb",
      "private_outputs": true,
      "provenance": [],
      "collapsed_sections": []
    },
    "kernelspec": {
      "name": "python3",
      "display_name": "Python 3"
    },
    "language_info": {
      "name": "python"
    },
    "accelerator": "GPU"
  },
  "cells": [
    {
      "cell_type": "code",
      "source": [
        "from logging.config import dictConfig\n",
        "import logging\n",
        "\n",
        "dictConfig({\n",
        "    'version': 1,\n",
        "    'formatters': {\n",
        "        'default': {\n",
        "            'format': '[%(asctime)s] %(message)s',\n",
        "        }\n",
        "    },\n",
        "    'handlers': {\n",
        "        'file': {\n",
        "            'level': 'DEBUG',\n",
        "            'class': 'logging.FileHandler',\n",
        "            'filename': 'debug.log',\n",
        "            'formatter': 'default',\n",
        "        },\n",
        "    },\n",
        "    'root': {\n",
        "        'level': 'DEBUG',\n",
        "        'handlers': ['file']\n",
        "    }\n",
        "})\n",
        "\n",
        "\n",
        "def myfunc():\n",
        "    logging.debug(\"함수가 시작되었습니다.\")\n",
        "\n",
        "\n",
        "myfunc()"
      ],
      "metadata": {
        "id": "w58jHXfU-qkT"
      },
      "execution_count": null,
      "outputs": []
    },
    {
      "cell_type": "code",
      "execution_count": null,
      "metadata": {
        "id": "zsv7j-rr8yA1"
      },
      "outputs": [],
      "source": [
        "!pip install mxnet\n",
        "!pip install gluonnlp pandas tqdm\n",
        "!pip install sentencepiece\n",
        "!pip install transformers==3.0.2\n",
        "!pip install torch"
      ]
    },
    {
      "cell_type": "code",
      "source": [
        "import torch\n",
        "from torch import nn\n",
        "import torch.nn.functional as F\n",
        "import torch.optim as optim\n",
        "from torch.utils.data import Dataset, DataLoader\n",
        "import gluonnlp as nlp\n",
        "import numpy as np\n",
        "from tqdm import tqdm, tqdm_notebook\n",
        "\n",
        "from gluonnlp.data import SentencepieceTokenizer"
      ],
      "metadata": {
        "id": "IzmR6U-MBXML"
      },
      "execution_count": null,
      "outputs": []
    },
    {
      "cell_type": "code",
      "source": [
        "#GPU 사용\n",
        "device = torch.device(\"cuda:0\")"
      ],
      "metadata": {
        "id": "q6kvIa24BXF2"
      },
      "execution_count": null,
      "outputs": []
    },
    {
      "cell_type": "code",
      "source": [
        "# 구글드라이브 연동\n",
        "from google.colab import drive\n",
        "drive.mount('/content/MyDrive')"
      ],
      "metadata": {
        "id": "X09ehhqCBW6s"
      },
      "execution_count": null,
      "outputs": []
    },
    {
      "cell_type": "code",
      "source": [
        "# 특정 파일 불러오기\n",
        "import pandas as pd\n",
        "train_preprocessed = pd.read_csv(\"/content/MyDrive/MyDrive/test/train_preprocessed_ver2_no_lower_no_ques.csv\")\n",
        "test_preprocessed = pd.read_csv(\"/content/MyDrive/MyDrive/test/test_preprocessed_ver2_no_lower_no_ques.csv\")"
      ],
      "metadata": {
        "id": "GodpcpowraMG"
      },
      "execution_count": null,
      "outputs": []
    },
    {
      "cell_type": "code",
      "source": [
        "import random\n",
        "random_seed = 0\n",
        "\n",
        "torch.manual_seed(random_seed)\n",
        "\n",
        "torch.backends.cudnn.deterministic = True\n",
        "torch.backends.cudnn.benchmark = False\n",
        "\n",
        "torch.cuda.manual_seed(random_seed)\n",
        "torch.cuda.manual_seed_all(random_seed)\n",
        "\n",
        "random.seed(random_seed)\n",
        "np.random.seed(random_seed)"
      ],
      "metadata": {
        "id": "VzOc-uZacO5y"
      },
      "execution_count": null,
      "outputs": []
    },
    {
      "cell_type": "markdown",
      "source": [
        "Over Sampling"
      ],
      "metadata": {
        "id": "JkYNeAUXrhRT"
      }
    },
    {
      "cell_type": "code",
      "source": [
        "small_label = train_preprocessed[\"label\"].value_counts()[train_preprocessed[\"label\"].value_counts() < 20].index\n",
        "mask = train_preprocessed['label'].isin(small_label)\n",
        "smalls = train_preprocessed[mask].reset_index(drop=True)\n",
        "train_preprocessed=train_preprocessed.append(smalls) # 두배\n",
        "train_preprocessed=train_preprocessed.append(smalls) # 세배\n",
        "train_preprocessed.reset_index(drop=True)"
      ],
      "metadata": {
        "id": "mKwAk1ndrhzg"
      },
      "execution_count": null,
      "outputs": []
    },
    {
      "cell_type": "code",
      "source": [
        "from sklearn.preprocessing import LabelEncoder\n",
        "le = LabelEncoder()\n",
        "le.fit(train_preprocessed[\"label\"])\n",
        "\n",
        "label = le.transform(train_preprocessed[\"label\"])\n",
        "train_preprocessed[\"encoded_label\"] = label"
      ],
      "metadata": {
        "id": "arYP8HPhrmOx"
      },
      "execution_count": null,
      "outputs": []
    },
    {
      "cell_type": "code",
      "source": [
        "import warnings\n",
        "warnings.filterwarnings('ignore')"
      ],
      "metadata": {
        "id": "w3S6bGC5eAhP"
      },
      "execution_count": null,
      "outputs": []
    },
    {
      "cell_type": "code",
      "source": [
        "le.classes_"
      ],
      "metadata": {
        "id": "prxmL3lQWUkP"
      },
      "execution_count": null,
      "outputs": []
    },
    {
      "cell_type": "markdown",
      "source": [
        "## 최종 5개 앙상블"
      ],
      "metadata": {
        "id": "lY2XunFNN5rS"
      }
    },
    {
      "cell_type": "code",
      "source": [
        "final_fold0_predict = np.load(\"/content/MyDrive/MyDrive/test/final_fold0_100_predict_epoch7.npy\")\n",
        "final_fold1_predict = np.load(\"/content/MyDrive/MyDrive/test/final_fold1_100_predict_epoch7.npy\")\n",
        "final_fold2_predict = np.load(\"/content/MyDrive/MyDrive/test/final_kfold2_100만개_epoch7.npy\")\n",
        "final_fold3_predict = np.load(\"/content/MyDrive/MyDrive/test/final_kfold3_100만개_epoch7.npy\")\n",
        "final_fold4_predict = np.load(\"/content/MyDrive/MyDrive/test/final_kfold4_100만개_epoch6.npy\")"
      ],
      "metadata": {
        "id": "g9IZR7CHiBgO"
      },
      "execution_count": null,
      "outputs": []
    },
    {
      "cell_type": "code",
      "source": [
        "# 삼중배열로 되어있기 때문에 이중배열로 변경해주기\n",
        "\n",
        "def make_matrix(lst):\n",
        "    res = []\n",
        "    for i in lst:\n",
        "        res.append(i[0])\n",
        "    return res\n",
        "\n",
        "import torch\n",
        "from torch import nn\n",
        "import torch.nn.functional as F\n",
        "\n",
        "def get_softmax(matrix):\n",
        "    res = []\n",
        "    # 2차원 리스트 입력\n",
        "    for row in matrix:\n",
        "        logit_tensor = torch.tensor(row)\n",
        "        res.append(torch.nn.functional.softmax(logit_tensor,dim=0).numpy())\n",
        "        \n",
        "    return res\n",
        "\n",
        "final_fold0_predict = make_matrix(final_fold0_predict)\n",
        "final_fold1_predict = make_matrix(final_fold1_predict)\n",
        "final_fold2_predict = make_matrix(final_fold2_predict)\n",
        "final_fold3_predict = make_matrix(final_fold3_predict)\n",
        "final_fold4_predict = make_matrix(final_fold4_predict)\n",
        "\n",
        "final_fold0_predict = get_softmax(final_fold0_predict)\n",
        "final_fold1_predict = get_softmax(final_fold1_predict)\n",
        "final_fold2_predict = get_softmax(final_fold2_predict)\n",
        "final_fold3_predict = get_softmax(final_fold3_predict)\n",
        "final_fold4_predict = get_softmax(final_fold4_predict)"
      ],
      "metadata": {
        "id": "gqk_epK9iMl3"
      },
      "execution_count": null,
      "outputs": []
    },
    {
      "cell_type": "markdown",
      "source": [
        "### Softmax로 확률값으로 변환하기"
      ],
      "metadata": {
        "id": "jEudQqYsKGKk"
      }
    },
    {
      "cell_type": "code",
      "source": [
        "# 5개 앙상블의 확률값이 평균\n",
        "final_fold_sum_predict = []\n",
        "\n",
        "for i in range(100000):\n",
        "    final_fold_sum_predict.append((final_fold0_predict[i] + final_fold1_predict[i] + final_fold2_predict[i] + final_fold3_predict[i] + final_fold4_predict[i])/5)\n",
        "\n",
        "final_predict = np.array(final_fold_sum_predict).argmax(axis=1)"
      ],
      "metadata": {
        "id": "b4XI1UmGiCA8"
      },
      "execution_count": null,
      "outputs": []
    },
    {
      "cell_type": "code",
      "source": [
        "final_predict_df = test_preprocessed.copy()\n",
        "final_predict_df[\"label\"] = le.inverse_transform(final_predict)\n",
        "final_predict_df.head()"
      ],
      "metadata": {
        "id": "UQMBTYNaiLAc"
      },
      "execution_count": null,
      "outputs": []
    },
    {
      "cell_type": "code",
      "source": [
        "test_id = []\n",
        "for i in range(1,100001):\n",
        "    num = str(i).zfill(6)\n",
        "    test_id.append(\"id_\" + num)"
      ],
      "metadata": {
        "id": "2NzVXfZro9rb"
      },
      "execution_count": null,
      "outputs": []
    },
    {
      "cell_type": "code",
      "source": [
        "# label 분할\n",
        "#predict_df[\"AI_id\"] = test_id\n",
        "final_predict_df[\"digit_1\"] = final_predict_df[\"label\"].apply(lambda x : x[0])\n",
        "final_predict_df[\"digit_2\"] = final_predict_df[\"label\"].apply(lambda x : x[1:3] if len(x) == 6 else x[1]) # 4글자, 6글자인 경우 다르게 출력\n",
        "final_predict_df[\"digit_3\"] = final_predict_df[\"label\"].apply(lambda x : x[3:] if len(x) == 6 else x[-2:]) # 4글자, 6글자인 경우 다르게 출력"
      ],
      "metadata": {
        "id": "P4vXSc73pEN1"
      },
      "execution_count": null,
      "outputs": []
    },
    {
      "cell_type": "code",
      "source": [
        "final_predict_df = final_predict_df[[\"AI_id\",\"digit_1\",\"digit_2\",\"digit_3\"]]\n",
        "final_predict_df.head()"
      ],
      "metadata": {
        "id": "A4wClZr3pFjp"
      },
      "execution_count": null,
      "outputs": []
    },
    {
      "cell_type": "code",
      "source": [
        "final_predict_df.to_csv(\"/content/MyDrive/MyDrive/test/predict_0412.csv\",encoding=\"utf-8-sig\",index=False)"
      ],
      "metadata": {
        "id": "lXw78Ep1pSvC"
      },
      "execution_count": null,
      "outputs": []
    },
    {
      "cell_type": "code",
      "source": [
        ""
      ],
      "metadata": {
        "id": "Tc61_gcpW9Wb"
      },
      "execution_count": null,
      "outputs": []
    }
  ]
}